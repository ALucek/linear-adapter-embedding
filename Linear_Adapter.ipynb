{
 "cells": [
  {
   "cell_type": "markdown",
   "id": "e569c2f3-69bd-488c-8b9a-aae8610e2aae",
   "metadata": {},
   "source": [
    "# Fine-Tuning Embedding Models for RAG Pipeline Optimization\n",
    "\n",
    "Base embedding models used for both knowledge base embedding and query embedding for context retrieval in RAG-based applications generally work well, but there are ways to optimize their performance to improve correct information retrieval based on historical user queries and more efficiently retrieve domain-specific information.\n",
    "\n",
    "**Essentially, fine-tuning embedding models on your data to improve your RAG application!**\n",
    "\n",
    "I've gone through various papers and implementations of embedding model fine-tuning techniques and determined that the most efficient way to get this improvement is through a **query-only linear adapter**, or training a simple linear layer transformation to better represent user queries in embedding space for improved retrieval.\n",
    "\n",
    "This allows us to very easily plug into existing RAG pipelines and optimize for our specific task without needing to completely re-embed our knowledge base or use a lot of resources training larger models, making this a simple, cost/compute-effective way to improve retrieval performance.\n",
    "\n",
    "<img src=\"./media/adapters_explainer.png\" width=800>\n",
    "\n",
    "Additionally, while it's preferred to use existing labeled data gathered through something like RAG Question Answering Chatbot logs, it is possible to also improve embedding representations with synthetically generated labels.\n",
    "\n",
    "In this notebook we will:\n",
    "1. Define a RAG application to optimize\n",
    "2. Generate a synthetic dataset with gpt-4o-mini\n",
    "3. Test retrieval metrics to gather a baseline for all-MiniLM-L6-v2\n",
    "4. Create and train a linear adapter\n",
    "5. Plug the adapter onto all-MiniLM-L6-v2 and assess performance\n",
    "\n",
    "Along the way, we'll be implementing many methodologies from [ChromaDB's Research](https://research.trychroma.com/embedding-adapters) on a small scale for task-specific performance increases, specifically their recommendations for triplet loss, random negative sampling, and linear query-only transformation.\n",
    "\n",
    "<img src=\"./media/validation_chart.png\" width=1200>\n",
    "\n",
    "Model adapters trained in this notebook published to [AdamLucek/all-MiniLM-L6-v2-query-only-linear-adapter-AppleQA](https://huggingface.co/AdamLucek/all-MiniLM-L6-v2-query-only-linear-adapter-AppleQA)"
   ]
  },
  {
   "cell_type": "markdown",
   "id": "9fdd5485-51da-4d17-a1f8-8d6054dcc9eb",
   "metadata": {},
   "source": [
    "---\n",
    "# Synthetic Dataset Creation\n",
    "\n",
    "To optimize document retrieval effectively, a crucial component is having access to high-quality labeled data. This data typically consists of pairs matching user queries with their most relevant documents. While the ideal scenario would involve collecting and labeling this data from real-world user interactions and testing, for demonstration purposes we can simulate this data by generating potential queries for each chunk of our knowledgebase.\n",
    "\n",
    "As a plus [it's been researched](https://arxiv.org/pdf/2401.00368) that using LLMs to generate synthetic data for text embedding improvement can lead to gains!"
   ]
  },
  {
   "cell_type": "code",
   "execution_count": 1,
   "id": "48b5b048-33d0-4716-96c5-ae17f46510ed",
   "metadata": {},
   "outputs": [],
   "source": [
    "import os\n",
    "import json\n",
    "from langchain_openai import ChatOpenAI\n",
    "from langchain_core.prompts import ChatPromptTemplate\n",
    "from langchain_core.output_parsers import JsonOutputParser\n",
    "from langchain_community.document_loaders import PyPDFLoader\n",
    "from langchain_text_splitters import RecursiveCharacterTextSplitter"
   ]
  },
  {
   "cell_type": "markdown",
   "id": "803302c9-c013-46fd-89ff-a892a73670d3",
   "metadata": {},
   "source": [
    "### Loading [Apple's 2024 Environmental Report](https://www.apple.com/environment/pdf/Apple_Environmental_Progress_Report_2024.pdf)\n",
    "\n",
    "This will be our main document and candidate for optimization. The concept here is that our \"RAG Application\" we're optimizing would be some sort of question and answering chat flow over this document. Our end goal is to improve accurate document retrieval based on the user's questions."
   ]
  },
  {
   "cell_type": "code",
   "execution_count": 2,
   "id": "f6beeade-4d01-438c-9637-078b51846568",
   "metadata": {},
   "outputs": [],
   "source": [
    "# Will be used as Training Data\n",
    "apple_loader = PyPDFLoader(\"/Users/alucek/Documents/Jupyter_Notebooks/ft_emb/data/Apple_Environmental_Progress_Report_2024.pdf\")\n",
    "apple_pages = apple_loader.load()\n",
    "\n",
    "apple_document = \"\"\n",
    "for i in range(len(apple_pages)):\n",
    "    apple_document += apple_pages[i].page_content"
   ]
  },
  {
   "cell_type": "markdown",
   "id": "d7078328-d29c-4d71-9759-a665ac0adbac",
   "metadata": {},
   "source": [
    "### Chunking Documents\n",
    "\n",
    "Using a token based chunker with the same parameters that [OpenAI's file search tool](https://platform.openai.com/docs/assistants/tools/file-search/how-it-works) uses for chunk size and overlap. This will split the documents into manageable chunks to be embedded and retreived. "
   ]
  },
  {
   "cell_type": "code",
   "execution_count": 3,
   "id": "71af17fc-1457-439d-9f4a-1253015b2e45",
   "metadata": {},
   "outputs": [],
   "source": [
    "# Split PDFs\n",
    "text_splitter = RecursiveCharacterTextSplitter.from_tiktoken_encoder(\n",
    "    model_name=\"gpt-4\",\n",
    "    chunk_size=800,\n",
    "    chunk_overlap=400,\n",
    ")\n",
    "\n",
    "apple_chunks = text_splitter.split_text(apple_document)"
   ]
  },
  {
   "cell_type": "markdown",
   "id": "38d9b70d-c95a-42ca-90d7-5038ec37125b",
   "metadata": {},
   "source": [
    "### Defining Chunk Question Generation Chain\n",
    "\n",
    "As mentioned, it is best to use real testing data and labeling from your RAG application query/retrieval pairs- but for demonstration we will use some synthetic QA pair generation via an LLM.\n",
    "\n",
    "The hope is that for each chunk of text that we have, we can create a possible user query that would most likely retrieve that chunk of text. This will allow us to further on down the line test the same user query, and assess based on retrieval/rank of the expected chunk."
   ]
  },
  {
   "cell_type": "code",
   "execution_count": 4,
   "id": "769bad4e-77a7-48ba-88a0-39a67dfb174d",
   "metadata": {},
   "outputs": [],
   "source": [
    "label_template = \"\"\"\n",
    "You are an AI assistant tasked with generating a single, realistic question-answer pair based on a given document. The question should be something a user might naturally ask when seeking information contained in the document.\n",
    "\n",
    "Given: {chunk}\n",
    "\n",
    "Instructions:\n",
    "1. Analyze the key topics, facts, and concepts in the given document, choose one to focus on.\n",
    "2. Generate twenty similar questions that a user might ask to find the information in this document that does NOT contain any company name.\n",
    "3. Use natural language and occasionally include typos or colloquialisms to mimic real user behavior in the question.\n",
    "4. Ensure the question is semantically related to the document content WITHOUT directly copying phrases.\n",
    "5. Make sure that all of the questions are similar to eachother. I.E. All asking about a similar topic/requesting the same information.\n",
    "\n",
    "Output Format:\n",
    "Return a JSON object with the following structure:\n",
    "```json\n",
    "{{\n",
    "  \"question_1\": \"Generated question text\",\n",
    "  \"question_2\": \"Generated question text\",\n",
    "  ...\n",
    "}}\n",
    "```\n",
    "\n",
    "Be creative, think like a curious user, and generate your 20 similar questions that would naturally lead to the given document in a semantic search. Ensure your response is a valid JSON object containing only the questions.\n",
    "\n",
    "\"\"\"\n",
    "\n",
    "label_prompt = ChatPromptTemplate.from_template(label_template)\n",
    "llm = ChatOpenAI(temperature=1.0, model=\"gpt-4o-mini\")\n",
    "\n",
    "label_chain = label_prompt | llm | JsonOutputParser()"
   ]
  },
  {
   "cell_type": "code",
   "execution_count": 5,
   "id": "5de7345d-3ff5-4fff-9c1a-e8472f8df8eb",
   "metadata": {},
   "outputs": [
    {
     "data": {
      "text/plain": [
       "{'question_1': 'How much less energy does the iMac use compared to ENERGY STAR requirements?',\n",
       " 'question_2': 'What makes the iMac energy efficient?',\n",
       " 'question_3': \"Can you tell me about the iMac's energy consumption compared to standards?\",\n",
       " 'question_4': 'What percentage less energy does the iMac consume than required?',\n",
       " 'question_5': 'How does the iMac compare in energy usage to the ENERGY STAR benchmark?',\n",
       " 'question_6': \"Is there any info on the iMac's energy efficiency ratings?\",\n",
       " 'question_7': 'What are the energy savings on the iMac compared to ENERGY STAR?',\n",
       " 'question_8': 'How efficiently does the iMac use energy relative to environmental standards?',\n",
       " 'question_9': 'What’s the energy reduction percentage of the new iMac models?',\n",
       " 'question_10': 'How energy-efficient is the latest iMac according to ENERGY STAR?',\n",
       " 'question_11': \"What details can you provide about the iMac's energy savings?\",\n",
       " 'question_12': 'Does the iMac meet or exceed ENERGY STAR energy requirements?',\n",
       " 'question_13': 'How much energy does the iMac save compared to the required standards?',\n",
       " 'question_14': 'What are the efficiency metrics for the iMac regarding energy use?',\n",
       " 'question_15': 'Is the iMac compliant with ENERGY STAR for energy usage?',\n",
       " 'question_16': 'What’s the energy consumption percentage of the iMac compared to its requirement?',\n",
       " 'question_17': 'How does the iMac help in reducing energy costs?',\n",
       " 'question_18': 'What advantage does the iMac have in energy efficiency?',\n",
       " 'question_19': \"Can you explain the iMac's performance in terms of energy consumption?\",\n",
       " 'question_20': \"What are the specifics of the iMac's energy consumption relative to industry standards?\"}"
      ]
     },
     "execution_count": 5,
     "metadata": {},
     "output_type": "execute_result"
    }
   ],
   "source": [
    "label_chain.invoke({\"chunk\": apple_chunks[20]})"
   ]
  },
  {
   "cell_type": "markdown",
   "id": "b53781f3-f686-4294-a73b-28d7993172b2",
   "metadata": {},
   "source": [
    "### Training & Validation Split\n",
    "\n",
    "With 215 chunks and 20 questions each, we have 4300 Question+Chunk pairs. These were shuffled into an 80/20 train/validation set resulting in:  \n",
    "- Training set size: 3440  \n",
    "- Validation set size: 860\n",
    "\n",
    "The dataset has been uploaded to [AdamLucek/apple-environmental-report-QA-retrieval](https://huggingface.co/datasets/AdamLucek/apple-environmental-report-QA-retrieval)"
   ]
  },
  {
   "cell_type": "code",
   "execution_count": 6,
   "id": "f40574d7-a18c-487e-aa7b-7c02787c0f21",
   "metadata": {},
   "outputs": [],
   "source": [
    "with open('/Users/alucek/Documents/Jupyter_Notebooks/ft_emb/data/train.json', 'r') as f:\n",
    "    train_data = json.load(f)\n",
    "\n",
    "with open('/Users/alucek/Documents/Jupyter_Notebooks/ft_emb/data/validation.json', 'r') as f:\n",
    "    validation_data = json.load(f)"
   ]
  },
  {
   "cell_type": "markdown",
   "id": "52b37f01-be6f-488f-977e-b696953aacfa",
   "metadata": {},
   "source": [
    "---\n",
    "# Setting Up Vector Database\n",
    "\n",
    "We'll be using my go-to open source VDB [ChromaDB](https://www.trychroma.com/) as our application database. You would want to use a testing environment of whatever vector database your application is currently using and the same retrieval parameters to ensure it's optimized for your specific use case and data store. \n",
    "\n",
    "By default, ChromaDB uses [sentence-transformers/all-MiniLM-L6-v2](https://huggingface.co/sentence-transformers/all-MiniLM-L6-v2) as their embedding model, which is the embedding model we will be using as our foundation for training!"
   ]
  },
  {
   "cell_type": "code",
   "execution_count": 7,
   "id": "d0179c78-2a4f-412a-ae27-f9ec333f6f3f",
   "metadata": {},
   "outputs": [],
   "source": [
    "import chromadb\n",
    "\n",
    "# Create chroma client\n",
    "path = \"/Users/alucek/Documents/Jupyter_Notebooks/ft_emb/chromadb\"\n",
    "client = chromadb.PersistentClient(path=path)\n",
    "\n",
    "# Create collections for both our specific simulated RAG pipelines\n",
    "apple_collection = client.get_or_create_collection(name='apple_collection', metadata={\"hnsw:space\": \"cosine\"})"
   ]
  },
  {
   "cell_type": "markdown",
   "id": "bcebbe13-86d1-4be5-84d1-d89103af618b",
   "metadata": {},
   "source": [
    "### Adding Chunks to VDB\n",
    "\n",
    "Simply embedding all chunks into the database."
   ]
  },
  {
   "cell_type": "code",
   "execution_count": null,
   "id": "bbba8937-da46-4c9d-82a5-94d0fb4258eb",
   "metadata": {},
   "outputs": [],
   "source": [
    "# Add apple chunks to vdb\n",
    "i = 0\n",
    "for chunk in apple_chunks:\n",
    "    apple_collection.add(\n",
    "    documents=[chunk],\n",
    "    ids=[f\"chunk_{i}\"]\n",
    "    )\n",
    "    i += 1"
   ]
  },
  {
   "cell_type": "markdown",
   "id": "d39c8f7f-0070-4eaf-9543-4b4c25be95d6",
   "metadata": {},
   "source": [
    "### Function for Document Retrieval\n",
    "\n",
    "Takes in the embedding, and retrieves the top 10 similar results from the database."
   ]
  },
  {
   "cell_type": "code",
   "execution_count": 8,
   "id": "a5911fb2-d1bb-4227-aca9-b7b334b2dbcf",
   "metadata": {},
   "outputs": [],
   "source": [
    "def retrieve_documents_embeddings(query_embedding, k=10):\n",
    "    query_embedding_list = query_embedding.tolist()\n",
    "    \n",
    "    results = apple_collection.query(\n",
    "        query_embeddings=[query_embedding_list],\n",
    "        n_results=k)\n",
    "    return results['documents'][0]"
   ]
  },
  {
   "cell_type": "markdown",
   "id": "de4d49e7-258a-435a-b8be-6c593edc5dfd",
   "metadata": {},
   "source": [
    "---\n",
    "# Base Model Evaluation\n",
    "\n",
    "As mentioned, we will be using [sentence-transformers/all-MiniLM-L6-v2](https://huggingface.co/sentence-transformers/all-MiniLM-L6-v2) as our base model for optimization. This technique is possible to use for any embedding model, so you'd want to assess your embedding model of choice here.\n",
    "\n",
    "We'll be focusing on two specific metrics to optimize towards:\n",
    "- **Mean Reciprocal Rank**\n",
    "- **Recall@k**"
   ]
  },
  {
   "cell_type": "markdown",
   "id": "8e3dff31-61b7-4c7d-8adf-b93a8b6f802e",
   "metadata": {},
   "source": [
    "### Metric: Mean Reciprocal Rank (MRR)\n",
    "\n",
    "$MRR = \\frac{1}{|Q|} \\sum_{i=1}^{|Q|} \\frac{1}{rank_i}$\n",
    "\n",
    "Where:\n",
    "\n",
    "- $|Q|$ is the number of queries  \n",
    "- $rank_i$ is the rank of the first correct answer for the $i$-th query\n",
    "\n",
    "MRR (Mean Reciprocal Rank) measures how high the first correct answer appears in the list, on average. MRR is particularly useful when there's only one relevant item in the list or when we're primarily interested in the position of the first correct result."
   ]
  },
  {
   "cell_type": "code",
   "execution_count": 9,
   "id": "8012bdb2-e62d-4a6c-9cd0-2fc2f0ee8575",
   "metadata": {},
   "outputs": [],
   "source": [
    "def reciprocal_rank(retrieved_docs, ground_truth, k):\n",
    "    try:\n",
    "        rank = retrieved_docs.index(ground_truth) + 1\n",
    "        return 1.0 / rank if rank <= k else 0.0\n",
    "    except ValueError:\n",
    "        return 0.0"
   ]
  },
  {
   "cell_type": "markdown",
   "id": "f8788377-076d-4fce-b05b-907e43181688",
   "metadata": {},
   "source": [
    "### Metric: Recall@K\n",
    "\n",
    "$\\text{Recall@k} = \\frac{1}{|Q|} \\sum_{i=1}^{|Q|} \\mathbb{1}(rank_i \\leq k)$\n",
    "\n",
    "Where:\n",
    "\n",
    "- $|Q|$ is the number of queries\n",
    "- $rank_i$ is the rank of the ground truth item for the $i$-th query\n",
    "- $\\mathbb{1}()$ is the indicator function, which equals 1 if the condition inside the parentheses is true, and 0 otherwise\n",
    "- $k$ is the cut-off rank\n",
    "\n",
    "Recall@k, also known as hit rate, measures the proportion of relevant items that are successfully retrieved within the top k results. In this context with one ground truth document, it's a binary measure that checks if the ground truth (correct item) is present in the top k retrieved documents."
   ]
  },
  {
   "cell_type": "code",
   "execution_count": 52,
   "id": "dd7b7f11-a083-4485-8c76-8a8afc78a524",
   "metadata": {},
   "outputs": [],
   "source": [
    "def hit_rate(retrieved_docs, ground_truth, k):\n",
    "    return 1.0 if ground_truth in retrieved_docs[:k] else 0.0"
   ]
  },
  {
   "cell_type": "markdown",
   "id": "eda54c5d-3196-421b-9ec4-7b68e11f9a85",
   "metadata": {},
   "source": [
    "### Load the base model\n",
    "\n",
    "We are using [sentence-transformers/all-MiniLM-L6-v2](https://huggingface.co/sentence-transformers/all-MiniLM-L6-v2), a 22.7M parameter embedding model which creates 384 dimensional dense vector representations of text content. Our goal then is to create an adapter than can better map the generated embedding of our query to the original vectorspace representation of our knowledgebase."
   ]
  },
  {
   "cell_type": "code",
   "execution_count": 11,
   "id": "cabb0bd1-70c0-4cab-b9ab-e8cb2e5961f4",
   "metadata": {},
   "outputs": [],
   "source": [
    "from sentence_transformers import SentenceTransformer\n",
    "\n",
    "# Load the base model\n",
    "base_model = SentenceTransformer('all-MiniLM-L6-v2')"
   ]
  },
  {
   "cell_type": "markdown",
   "id": "f202a58d-d780-4b33-ba50-d379ade847b9",
   "metadata": {},
   "source": [
    "### Evaluation Function\n",
    "\n",
    "This will run our metric calculations within our vector database setup and return an average MRR and R@K"
   ]
  },
  {
   "cell_type": "code",
   "execution_count": 14,
   "id": "1934db48-a9ef-46be-b673-a1daaedb5399",
   "metadata": {},
   "outputs": [
    {
     "name": "stdout",
     "output_type": "stream",
     "text": [
      "Average Hit Rate @10: 0.6116279069767442\n",
      "Mean Reciprocal Rank @10: 0.31327104097452935\n"
     ]
    }
   ],
   "source": [
    "import numpy as np\n",
    "\n",
    "def validate_embedding_model(validation_data, base_model, k=10):\n",
    "    hit_rates = []\n",
    "    reciprocal_ranks = []\n",
    "    \n",
    "    for data_point in validation_data:\n",
    "        question = data_point['question']\n",
    "        ground_truth = data_point['chunk']\n",
    "        \n",
    "        # Generate embedding for the question\n",
    "        question_embedding = base_model.encode(question)\n",
    "        \n",
    "        # Retrieve documents using the embedding\n",
    "        retrieved_docs = retrieve_documents_embeddings(question_embedding, k)\n",
    "        \n",
    "        # Calculate metrics\n",
    "        hr = hit_rate(retrieved_docs, ground_truth, k)\n",
    "        rr = reciprocal_rank(retrieved_docs, ground_truth, k)\n",
    "        \n",
    "        hit_rates.append(hr)\n",
    "        reciprocal_ranks.append(rr)\n",
    "    \n",
    "    # Calculate average metrics\n",
    "    avg_hit_rate = np.mean(hit_rates)\n",
    "    avg_reciprocal_rank = np.mean(reciprocal_ranks)\n",
    "    \n",
    "    return {\n",
    "        'average_hit_rate': avg_hit_rate,\n",
    "        'average_reciprocal_rank': avg_reciprocal_rank\n",
    "    }\n",
    "\n",
    "results = validate_embedding_model(validation_data, base_model)\n",
    "print(f\"Average Hit Rate @10: {results['average_hit_rate']}\")\n",
    "print(f\"Mean Reciprocal Rank @10: {results['average_reciprocal_rank']}\")"
   ]
  },
  {
   "cell_type": "markdown",
   "id": "90eacd06-c6c8-4656-80ab-e8bb72e94d88",
   "metadata": {},
   "source": [
    "### Baseline Interpretation\n",
    "\n",
    "**R@K: 0.6116**\n",
    "- With k=10, for 61.16% of the queries, the correct answer was found within the top 10 results.\n",
    "\n",
    "**MRR: 0.3133**\n",
    "- The reciprocal of 0.3133 is about 3.2, indicating that on average, the first correct result appears at about position 3.2 of 10.\n",
    "\n",
    "Our goal then is to increase both of these so our correct document is placed higher in the retrieval ranking (calculated as more relevant), and shows up more often within our number of retrieved documents."
   ]
  },
  {
   "cell_type": "markdown",
   "id": "2b0a723a-6de4-4797-aa85-46480fa7c69a",
   "metadata": {},
   "source": [
    "---\n",
    "# Linear Adapter Training\n",
    "\n",
    "<img src=\"./media/adapter_diagram.png\" width=800>\n",
    "\n",
    "As stated in the introduction, we will be training a query-only linear adapter.\n",
    "\n",
    "This has the added benefits of:\n",
    "- Super lightweight, only one single linear transformation layer from the embedding\n",
    "- Minimal added compute at run time, can be trained quickly on minimal hardware \n",
    "- No need to re-embed your knowledgebase\n",
    "- Proven to be almost as effective as full embedding model fine tuning \n",
    "\n",
    "We'll be using some techniques from the [ChromaDB embedding adapters paper](https://research.trychroma.com/embedding-adapters) findings like triplet loss, random negative sampling, and some of their hyperparameters. These are outlined below:"
   ]
  },
  {
   "cell_type": "code",
   "execution_count": 15,
   "id": "9a629c7f-5159-4028-949b-969808d7f9c3",
   "metadata": {},
   "outputs": [],
   "source": [
    "import random\n",
    "import torch\n",
    "from torch import nn\n",
    "from torch.utils.data import Dataset, DataLoader\n",
    "from torch.optim import AdamW\n",
    "from torch.optim.lr_scheduler import LambdaLR\n",
    "from torch.nn.utils import clip_grad_norm_"
   ]
  },
  {
   "cell_type": "markdown",
   "id": "18ba855d-049e-4452-adf0-9c210a3f01a6",
   "metadata": {},
   "source": [
    "### Random Negative Sampling\n",
    "\n",
    "<img src=\"./media/negative_sampling.png\" width=800>\n",
    "\n",
    "Negative sampling involves randomly selecting unrelated or irrelevant examples (called \"negative samples\") during the training process.\n",
    "\n",
    "1. **Purpose**: It helps the model learn to distinguish between relevant and irrelevant information more effectively.\n",
    "\n",
    "2. **Process**: Along with the correct (positive) matches for a query, the model is also shown randomly selected incorrect (negative) matches.\n",
    "\n",
    "3. **Benefit**: This exposes the model to a wider range of examples, helping it develop a better understanding of what makes a good match versus a poor one.\n",
    "\n",
    "4. **Efficiency**: It's a computationally cheap way to improve performance, as it doesn't require carefully curated negative examples.\n",
    "\n",
    "By introducing these random negative samples, the model adapter better learns to create embeddings that not only bring relevant items closer together in the vector space, but also push irrelevant items further apart. This leads to more robust and discriminative embeddings, ultimately improving the model's ability to retrieve relevant information accurately.\n",
    "\n",
    "<img src=\"./media/negative_sampling_2.png\" width=300>"
   ]
  },
  {
   "cell_type": "code",
   "execution_count": 17,
   "id": "e995e05b-b6c6-476b-bbea-d06b2e1027b3",
   "metadata": {},
   "outputs": [],
   "source": [
    "# Load NVIDIA 10K Document\n",
    "# Will be used for random negative sampling\n",
    "nvidia_loader = PyPDFLoader(\"/Users/alucek/Documents/Jupyter_Notebooks/ft_emb/data/nvidia_10k.pdf\")\n",
    "nvidia_pages = nvidia_loader.load()\n",
    "\n",
    "nvidia_document = \"\"\n",
    "for i in range(len(nvidia_pages)):\n",
    "    nvidia_document += nvidia_pages[i].page_content\n",
    "\n",
    "nvidia_chunks = text_splitter.split_text(nvidia_document)"
   ]
  },
  {
   "cell_type": "code",
   "execution_count": 18,
   "id": "0a666ef9-38a6-4fb7-8de2-76d6856df336",
   "metadata": {},
   "outputs": [],
   "source": [
    "def random_negative():\n",
    "    random_sample = random.choice(nvidia_chunks)\n",
    "    return random_sample"
   ]
  },
  {
   "cell_type": "code",
   "execution_count": 20,
   "id": "a18d437a-56d9-4c69-b4c1-0b22d2a3f813",
   "metadata": {},
   "outputs": [
    {
     "data": {
      "text/plain": [
       "'price basis. In certain cases, we can establish standalone selling price based on directly observable prices of products or services sold separately in comparable\\ncircumstances to similar customers. If standalone selling price is not directly observable, such as when we do not sell a product or service separately , we\\ndetermine standalone selling price based on market data and other observable inputs.\\nChange in Accounting Estimate\\nIn February 2023, we assessed the useful lives of our property , plant, and equipment. Based on advances in technology and usage rate, we increased the\\nestimated useful life of a majority of the server , storage, and network equipment from three years to a range of four to five years, and assembly and test\\nequipment from five years to seven years. The estimated effect of this change for fiscal year 2024 was a benefit of $33 million and $102 million for cost of\\nrevenue and operating expenses, respectively , which resulted in an increase in operating income of $135 million and net income of $114 million after tax, or\\n$0.05 per both basic and diluted share.\\nResults of Operations\\nA discussion regarding our financial condition and results of operations for fiscal year 2024 compared to fiscal year 2023 is presented below . A discussion\\nregarding our financial condition and results of operations for fiscal year 2023 compared to fiscal year 2022 can be found under Item 7 in our Annual Report on\\nForm 10-K for the fiscal year ended January 29, 2023, filed with the SEC on February 24, 2023, which is available free of charge on the SEC’ s website at\\nhttp://www .sec.gov and at our investor relations website, http://investor .nvidia.com.\\n38Table of Contents\\nThe following table sets forth, for the periods indicated, certain items in our Consolidated Statements of Income expressed as a percentage of revenue. \\n  Year Ended\\n Jan 28, 2024 Jan 29, 2023\\nRevenue 100.0 % 100.0 %\\nCost of revenue 27.3 43.1 \\nGross profit 72.7 56.9 \\nOperating expenses  \\nResearch and development 14.2 27.2 \\nSales, general and administrative 4.4 9.1 \\nAcquisition termination cost — 5.0 \\nTotal operating expenses 18.6 41.3 \\nOperating income 54.1 15.6 \\nInterest income 1.4 1.0 \\nInterest expense (0.4) (1.0)\\nOther , net 0.4 (0.1)\\nOther income (expense), net 1.4 (0.1)\\nIncome before income tax 55.5 15.5 \\nIncome tax expense (benefit) 6.6 (0.7)\\nNet income 48.9 % 16.2 %\\nReportable Segments\\nRevenue by Reportable Segments\\nYear Ended\\nJan 28, 2024 Jan 29, 2023$\\nChange%\\nChange\\n($ in millions)\\nCompute & Networking $ 47,405 $ 15,068 $ 32,337 215 %\\nGraphics 13,517 11,906 1,611 14 %\\nTotal $ 60,922 $ 26,974 $ 33,948 126 %\\nOperating Income by Reportable Segments\\nYear Ended\\nJan 28, 2024 Jan 29, 2023$\\nChange%\\nChange\\n($ in millions)\\nCompute & Networking $ 32,016 $ 5,083 $ 26,933 530 %\\nGraphics 5,846 4,552 1,294 28 %'"
      ]
     },
     "execution_count": 20,
     "metadata": {},
     "output_type": "execute_result"
    }
   ],
   "source": [
    "random_negative()"
   ]
  },
  {
   "cell_type": "markdown",
   "id": "667182f4-a800-4e10-9ec5-a65fa0966bea",
   "metadata": {},
   "source": [
    "### Torch Module and Linear Transformations\n",
    "\n",
    "<img src=\"./media/linear_layer.png\" width=500>\n",
    "\n",
    "A linear transformation is a mathematical operation that takes an input vector and produces an output vector while preserving the operations of vector addition and scalar multiplication.\n",
    "\n",
    "In the context of machine learning and neural networks, a linear transformation is typically represented as:\n",
    "\n",
    "$f(x) = Wx + b$\n",
    "\n",
    "Where:\n",
    "- $x$ is the input vector\n",
    "- $W$ is a matrix of weights\n",
    "- $b$ is a bias vector\n",
    "\n",
    "Internally, `nn.Linear` creates:\n",
    "- A weight matrix $W$ of shape (output_features, input_features)\n",
    "- A bias vector $b$ of shape (output_features)\n",
    "\n",
    "This is all saved using PyTorch and their `Module` class, and these are the trainable parameters that we will be optimizing."
   ]
  },
  {
   "cell_type": "code",
   "execution_count": 21,
   "id": "7a61a937-fb73-4764-abbd-e5d9752781d3",
   "metadata": {},
   "outputs": [],
   "source": [
    "class LinearAdapter(nn.Module):\n",
    "    def __init__(self, input_dim):\n",
    "        super().__init__()\n",
    "        self.linear = nn.Linear(input_dim, input_dim)\n",
    "    \n",
    "    def forward(self, x):\n",
    "        return self.linear(x)"
   ]
  },
  {
   "cell_type": "markdown",
   "id": "e1b000b5-3794-4436-b7ef-ea7c4e36b938",
   "metadata": {},
   "source": [
    "### Triplet Dataset Preparation\n",
    "\n",
    "<img src=\"./media/tripletdataset.png\" width=600>\n",
    "\n",
    "The `TripletDataset` class is a custom dataset class that inherits from PyTorch's `Dataset` designed to work with triplet loss where each data point consists of three parts: a query, a positive example, and a negative example.\n",
    "\n",
    "1. It retrieves the item at index `idx` from the training data.\n",
    "2. Extracts the query and positive example from the item.\n",
    "3. Uses the `negative_sampler` to generate a negative example.\n",
    "4. Encodes the query, positive, and negative examples into embeddings using the `base_model`.\n",
    "5. Returns the triplet of embeddings (query, positive, negative)."
   ]
  },
  {
   "cell_type": "code",
   "execution_count": 22,
   "id": "51e28cdd-f54c-47aa-9426-e426fb330bb2",
   "metadata": {},
   "outputs": [],
   "source": [
    "class TripletDataset(Dataset):\n",
    "    def __init__(self, data, base_model, negative_sampler):\n",
    "        self.data = data\n",
    "        self.base_model = base_model\n",
    "        self.negative_sampler = negative_sampler\n",
    "\n",
    "    def __len__(self):\n",
    "        return len(self.data)\n",
    "\n",
    "    def __getitem__(self, idx):\n",
    "        item = self.data[idx]\n",
    "        query = item['question']\n",
    "        positive = item['chunk']\n",
    "        negative = self.negative_sampler()\n",
    "        \n",
    "        query_emb = self.base_model.encode(query, convert_to_tensor=True)\n",
    "        positive_emb = self.base_model.encode(positive, convert_to_tensor=True)\n",
    "        negative_emb = self.base_model.encode(negative, convert_to_tensor=True)\n",
    "        \n",
    "        return query_emb, positive_emb, negative_emb"
   ]
  },
  {
   "cell_type": "markdown",
   "id": "23b21840-ae60-4d29-b5b1-e2c569fc90e8",
   "metadata": {},
   "source": [
    "### Trainer Script\n",
    "\n",
    "This script follows the classic machine learning optimization flow in this way:\n",
    "\n",
    "1. Learning rate scheduler setup with warmup and decay phases\n",
    "2. Initialization of LinearAdapter, loss function, optimizer, and dataloader\n",
    "3. Calculation of total training steps and setup of learning rate scheduler\n",
    "4. Batch generation from the TripletDataset dataloader\n",
    "5. Forward pass through the LinearAdapter\n",
    "6. Triplet Margin Loss calculation\n",
    "7. Backpropagation and gradient clipping\n",
    "8. Optimization parameter updates and learning rate adjustment\n",
    "9. Epoch-wise loss reporting\n",
    "10. Return of the trained adapter\n",
    "\n",
    "Let's talk briefly about how random negative sampling and triplet loss are used:\n",
    "\n",
    "<img src=\"./media/triplet_loss.png\" width=500>\n",
    "\n",
    "Triplet loss is a type of loss function used in various machine learning tasks, particularly in metric learning and embedding learning. Its primary goal is to learn embeddings such that similar examples are closer together in the embedding space while dissimilar examples are farther apart.\n",
    "\n",
    "The triplet loss operates on triplets of data points:\n",
    "\n",
    "1. Anchor (A): The reference sample\n",
    "2. Positive (P): A sample similar to the anchor\n",
    "3. Negative (N): A sample dissimilar to the anchor\n",
    "\n",
    "defined as: $L = max(d(A, P) - d(A, N) + margin, 0)$\n",
    "\n",
    "Where:\n",
    "- $d(x, y)$ is the distance function (Euclidean)\n",
    "- margin is a hyperparameter that enforces a minimum distance between the positive and negative pairs\n",
    "\n",
    "The loss encourages the model to learn embeddings where:\n",
    "\n",
    "$d(A, P) < d(A, N) - margin$\n",
    "\n",
    "This means the distance between the anchor and positive should be smaller than the distance between the anchor and negative, by at least the margin. The Negative document is dynamically randomly sampled from our NVIDIA form 10-K "
   ]
  },
  {
   "cell_type": "code",
   "execution_count": 23,
   "id": "591caa00-410f-4149-ad5a-6a83e79a6838",
   "metadata": {},
   "outputs": [],
   "source": [
    "def get_linear_schedule_with_warmup(optimizer, num_warmup_steps, num_training_steps):\n",
    "    def lr_lambda(current_step):\n",
    "        if current_step < num_warmup_steps:\n",
    "            return float(current_step) / float(max(1, num_warmup_steps))\n",
    "        return max(0.0, float(num_training_steps - current_step) / float(max(1, num_training_steps - num_warmup_steps)))\n",
    "    return LambdaLR(optimizer, lr_lambda)\n",
    "\n",
    "def train_linear_adapter(base_model, train_data, negative_sampler, num_epochs=10, batch_size=32, \n",
    "                         learning_rate=2e-5, warmup_steps=100, max_grad_norm=1.0, margin=1.0):\n",
    "    device = torch.device(\"cuda\" if torch.cuda.is_available() else \"cpu\")\n",
    "    \n",
    "    # Initialize the LinearAdapter\n",
    "    adapter = LinearAdapter(base_model.get_sentence_embedding_dimension()).to(device)\n",
    "    \n",
    "    # Define loss function and optimizer\n",
    "    triplet_loss = nn.TripletMarginLoss(margin=margin, p=2)\n",
    "    optimizer = AdamW(adapter.parameters(), lr=learning_rate)\n",
    "    \n",
    "    # Create dataset and dataloader\n",
    "    dataset = TripletDataset(train_data, base_model, negative_sampler)\n",
    "    dataloader = DataLoader(dataset, batch_size=batch_size, shuffle=True)\n",
    "    \n",
    "    # Calculate total number of training steps\n",
    "    total_steps = len(dataloader) * num_epochs\n",
    "    \n",
    "    # Create learning rate scheduler\n",
    "    scheduler = get_linear_schedule_with_warmup(optimizer, num_warmup_steps=warmup_steps, num_training_steps=total_steps)\n",
    "    \n",
    "    # Training loop\n",
    "    for epoch in range(num_epochs):\n",
    "        total_loss = 0\n",
    "        for batch in dataloader:\n",
    "            query_emb, positive_emb, negative_emb = [x.to(device) for x in batch]\n",
    "            \n",
    "            # Forward pass\n",
    "            adapted_query_emb = adapter(query_emb)\n",
    "            \n",
    "            # Compute loss\n",
    "            loss = triplet_loss(adapted_query_emb, positive_emb, negative_emb)\n",
    "            \n",
    "            # Backward pass and optimization\n",
    "            optimizer.zero_grad()\n",
    "            loss.backward()\n",
    "            \n",
    "            # Gradient clipping\n",
    "            clip_grad_norm_(adapter.parameters(), max_grad_norm)\n",
    "            \n",
    "            optimizer.step()\n",
    "            scheduler.step()\n",
    "            \n",
    "            total_loss += loss.item()\n",
    "        \n",
    "        print(f\"Epoch {epoch+1}/{num_epochs}, Loss: {total_loss/len(dataloader):.4f}\")\n",
    "    \n",
    "    return adapter"
   ]
  },
  {
   "cell_type": "markdown",
   "id": "db53c604-03f3-4ab3-b251-e97a49867155",
   "metadata": {},
   "source": [
    "### Training Function Execution!\n",
    "\n",
    "Saves the hyperparameters and linear adapter in the same file"
   ]
  },
  {
   "cell_type": "code",
   "execution_count": 24,
   "id": "c1ca4974-ec5e-44db-b9b2-c5b58319abd4",
   "metadata": {},
   "outputs": [
    {
     "name": "stdout",
     "output_type": "stream",
     "text": [
      "Epoch 1/1, Loss: 0.4718\n"
     ]
    }
   ],
   "source": [
    "# Define the kwargs dictionary\n",
    "adapter_kwargs = {\n",
    "    'num_epochs': 1,\n",
    "    'batch_size': 32,\n",
    "    'learning_rate': 0.003,\n",
    "    'warmup_steps': 100,\n",
    "    'max_grad_norm': 1.0,\n",
    "    'margin': 1.0\n",
    "}\n",
    "\n",
    "# Train the adapter using the kwargs dictionary\n",
    "trained_adapter = train_linear_adapter(base_model, train_data, random_negative, **adapter_kwargs)\n",
    "\n",
    "# Create a dictionary to store both the adapter state_dict and the kwargs\n",
    "save_dict = {\n",
    "    'adapter_state_dict': trained_adapter.state_dict(),\n",
    "    'adapter_kwargs': adapter_kwargs\n",
    "}\n",
    "\n",
    "# Save the combined dictionary\n",
    "torch.save(save_dict, '/Users/alucek/Documents/Jupyter_Notebooks/ft_emb/adapters/linear_adapter_1epoch.pth')"
   ]
  },
  {
   "cell_type": "markdown",
   "id": "0db51ae8-06d1-4a00-8ee1-db43262df725",
   "metadata": {},
   "source": [
    "---\n",
    "# Evaluate Adapter Performance\n",
    "\n",
    "Now that we have our trained query-only linear adapter, let's assess its performance on our knowledgebase compared to our baseline model."
   ]
  },
  {
   "cell_type": "markdown",
   "id": "ee831ee7-ea22-4257-ae0b-7e0827c4c3bf",
   "metadata": {},
   "source": [
    "### Applying the Adapter\n",
    "\n",
    "Below is the function to get the original embedding for the query and run it through our trained adapter.\n",
    "\n",
    "This is essentially the new function for embedding your user query."
   ]
  },
  {
   "cell_type": "code",
   "execution_count": 25,
   "id": "ba83ca83-6529-4e52-a4a8-d56eeea64ff3",
   "metadata": {},
   "outputs": [],
   "source": [
    "# Function to encode query using the adapter\n",
    "def encode_query(query, base_model, adapter):\n",
    "    device = next(adapter.parameters()).device\n",
    "    query_emb = base_model.encode(query, convert_to_tensor=True).to(device)\n",
    "    adapted_query_emb = adapter(query_emb)\n",
    "    return adapted_query_emb.cpu().detach().numpy()"
   ]
  },
  {
   "cell_type": "markdown",
   "id": "7bdb45e7-d62b-4e87-b455-f26d8d768ef8",
   "metadata": {},
   "source": [
    "### Loading the Adapter"
   ]
  },
  {
   "cell_type": "code",
   "execution_count": 50,
   "id": "2598f1cb-5844-4184-a102-f626c1a4ee96",
   "metadata": {},
   "outputs": [
    {
     "name": "stdout",
     "output_type": "stream",
     "text": [
      "Adapter loaded successfully.\n",
      "Training parameters used:\n",
      "num_epochs: 30\n",
      "batch_size: 32\n",
      "learning_rate: 0.003\n",
      "warmup_steps: 100\n",
      "max_grad_norm: 1.0\n",
      "margin: 1.0\n"
     ]
    }
   ],
   "source": [
    "# Later, loading and using the saved information\n",
    "loaded_dict = torch.load('/Users/alucek/Documents/Jupyter_Notebooks/ft_emb/adapters/linear_adapter_30epochs.pth')\n",
    "\n",
    "# Recreate the adapter\n",
    "loaded_adapter = LinearAdapter(base_model.get_sentence_embedding_dimension())  # Initialize with appropriate parameters\n",
    "loaded_adapter.load_state_dict(loaded_dict['adapter_state_dict'])\n",
    "\n",
    "# Access the training parameters\n",
    "training_params = loaded_dict['adapter_kwargs']\n",
    "\n",
    "print(\"Adapter loaded successfully.\")\n",
    "print(\"Training parameters used:\")\n",
    "for key, value in training_params.items():\n",
    "    print(f\"{key}: {value}\")"
   ]
  },
  {
   "cell_type": "markdown",
   "id": "848c1c99-e9dd-417b-9f0e-4e1af239bdd6",
   "metadata": {},
   "source": [
    "### Adapter Evaluation Function\n",
    "\n",
    "New evaluation function to replicate the original experiment, however this time with adapter support"
   ]
  },
  {
   "cell_type": "code",
   "execution_count": 53,
   "id": "db5000e9-7abf-4731-ad3b-6c35472278bd",
   "metadata": {},
   "outputs": [
    {
     "name": "stdout",
     "output_type": "stream",
     "text": [
      "Average Hit Rate @10: 0.6662790697674419\n",
      "Mean Reciprocal Rank @10: 0.33240956072351424\n"
     ]
    }
   ],
   "source": [
    "def evaluate_adapter(validation_data, base_model, adapter, k=10):\n",
    "    hit_rates = []\n",
    "    reciprocal_ranks = []\n",
    "    \n",
    "    for data_point in validation_data:\n",
    "        question = data_point['question']\n",
    "        ground_truth = data_point['chunk']\n",
    "        \n",
    "        # Generate embedding for the question\n",
    "        question_embedding = encode_query(question, base_model, adapter)\n",
    "        # Retrieve documents using the embedding\n",
    "        retrieved_docs = retrieve_documents_embeddings(question_embedding, k)\n",
    "        \n",
    "        # Calculate metrics\n",
    "        hr = hit_rate(retrieved_docs, ground_truth, k)\n",
    "        rr = reciprocal_rank(retrieved_docs, ground_truth, k)\n",
    "        \n",
    "        hit_rates.append(hr)\n",
    "        reciprocal_ranks.append(rr)\n",
    "    \n",
    "    # Calculate average metrics\n",
    "    avg_hit_rate = np.mean(hit_rates)\n",
    "    avg_reciprocal_rank = np.mean(reciprocal_ranks)\n",
    "    \n",
    "    return {\n",
    "        'average_hit_rate': avg_hit_rate,\n",
    "        'average_reciprocal_rank': avg_reciprocal_rank\n",
    "    }\n",
    "\n",
    "results = evaluate_adapter(validation_data, base_model, loaded_adapter, k=10)\n",
    "print(f\"Average Hit Rate @10: {results['average_hit_rate']}\")\n",
    "print(f\"Mean Reciprocal Rank @10: {results['average_reciprocal_rank']}\")"
   ]
  },
  {
   "cell_type": "markdown",
   "id": "ece1888b-078e-4c24-8fef-0b4969e001a7",
   "metadata": {},
   "source": [
    "Post training, our adapter gave us an average hit rate/recall of 66.7%, a percentage point increase of 4.8 over baseline of 61.9%- **a 7.8% improvement**. And a mean reciprocal rank of 0.332, so our expected document tends to be placed at place 3.0, compared to the baseline of 3.2 (0.3110)- **a 6.2% improvement**.\n",
    "\n",
    "### Validation Metrics Compared to Baseline\n",
    "<img src=\"./media/validation_chart.png\" width=1200>\n",
    "\n",
    "We can conclude that our 30 epoch trained version on these hyperparameters gave us the biggest improvement, and began to overfit and lose ability to generalize when increasing to 40. To see how our model is fitting to the data, we can run the metrics on our training data, visualized below:\n",
    "\n",
    "### Visualizing Model Fitting on Training Data\n",
    "<img src=\"./media/training_fit.png\" width=1200>\n",
    "\n",
    "Decent fitting, not rampant overfitting. If user queries are the same as some of the frequent queries in the training data, they will definitely have a big boost in expected document retrieval accuracy."
   ]
  },
  {
   "cell_type": "code",
   "execution_count": null,
   "id": "fcf9e9f4-a9f3-44b9-8a6b-fd36f2ac3326",
   "metadata": {},
   "outputs": [],
   "source": []
  }
 ],
 "metadata": {
  "kernelspec": {
   "display_name": "Python 3 (ipykernel)",
   "language": "python",
   "name": "python3"
  },
  "language_info": {
   "codemirror_mode": {
    "name": "ipython",
    "version": 3
   },
   "file_extension": ".py",
   "mimetype": "text/x-python",
   "name": "python",
   "nbconvert_exporter": "python",
   "pygments_lexer": "ipython3",
   "version": "3.12.1"
  }
 },
 "nbformat": 4,
 "nbformat_minor": 5
}
